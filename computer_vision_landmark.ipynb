{
 "cells": [
  {
   "cell_type": "code",
   "execution_count": 4,
   "metadata": {},
   "outputs": [
    {
     "name": "stdout",
     "output_type": "stream",
     "text": [
      "Colosseum\n",
      "Colosseum\n",
      "None\n"
     ]
    }
   ],
   "source": [
    "import requests\n",
    "import os\n",
    "from dotenv import load_dotenv\n",
    "\n",
    "# Load environment variables\n",
    "load_dotenv()\n",
    "\n",
    "# Retrieve API key and endpoints from environment variables\n",
    "VISION_KEY = os.getenv(\"VISION_KEY\")\n",
    "\n",
    "\n",
    "def request_vision(image_path):\n",
    "    endpoint = \"https://5a046-computervision2.cognitiveservices.azure.com/vision/v3.2/analyze?\"\n",
    "    \n",
    "    params = {\n",
    "        \"language\":\"en\",\n",
    "        \"VisualFeatures\": \"Description,Categories,Tags\",\n",
    "    }\n",
    "    headers = {\n",
    "        \"ocp-apim-subscription-key\" : VISION_KEY,\n",
    "        \"Content-Type\": \"application/octet-stream\"\n",
    "    }\n",
    "    \n",
    "    with open(image_path, \"rb\") as image:\n",
    "        image_data = image.read()\n",
    "        \n",
    "    response = requests.post(endpoint, params=params, headers=headers, data = image_data)\n",
    "    if response.status_code == 200:\n",
    "        response_json = response.json()\n",
    "        for category in response_json.get(\"categories\", []):\n",
    "            detail = category.get(\"detail\", {})  # 'detail' 값이 있는지 확인\n",
    "            \n",
    "            # 'landmarks' 리스트 안의 'name'을 출력\n",
    "            for landmark in detail.get(\"landmarks\", []):\n",
    "                print(landmark.get(\"name\", \"No name found\"))\n",
    "    else:\n",
    "        return dict(status=response.status_code, message=response.text)\n",
    "\n",
    "print(request_vision(r\"C:\\Users\\USER\\Downloads\\rome.jpg\"))"
   ]
  }
 ],
 "metadata": {
  "kernelspec": {
   "display_name": "Python 3",
   "language": "python",
   "name": "python3"
  },
  "language_info": {
   "codemirror_mode": {
    "name": "ipython",
    "version": 3
   },
   "file_extension": ".py",
   "mimetype": "text/x-python",
   "name": "python",
   "nbconvert_exporter": "python",
   "pygments_lexer": "ipython3",
   "version": "3.12.5"
  }
 },
 "nbformat": 4,
 "nbformat_minor": 2
}
